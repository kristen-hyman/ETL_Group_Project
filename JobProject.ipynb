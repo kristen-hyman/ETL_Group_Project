{
 "cells": [
  {
   "cell_type": "code",
   "execution_count": 1,
   "metadata": {},
   "outputs": [],
   "source": [
    "#from yelp.client import Client\n",
    "import requests\n",
    "import pprint\n",
    "import pandas as pd\n",
    "import numpy as np\n",
    "from sqlalchemy import create_engine\n",
    "import pymysql"
   ]
  },
  {
   "cell_type": "code",
   "execution_count": 2,
   "metadata": {},
   "outputs": [],
   "source": [
    "def search_business(offset):\n",
    "    api_key = \"OnCmW229lglON7t4NBgK55sdvTzDfUIq-AJYVQDPnbSLwbS3rC8ky_dPBk6GETFAKBjrUfYYqBIgo5VN1G6Eu51-_gL3si3cNKJzZTxAfaiKf2YazE_1dBnkpyTuW3Yx\" #  Replace this with your real API key\n",
    "    url = 'https://api.yelp.com/v3/businesses/search'\n",
    "    headers = {\n",
    "        'Authorization': 'Bearer {}'.format(api_key),\n",
    "    }\n",
    "\n",
    "    url_params = {\n",
    "                'term': \"Restaurants\",\n",
    "                'location': \"Washington+DC\",\n",
    "                'limit': 50,\n",
    "                'total': offset\n",
    "                }\n",
    "    \n",
    "    response = requests.get(url, headers=headers, params=url_params)\n",
    "    return response.json() # Returns a JSON.\n"
   ]
  },
  {
   "cell_type": "code",
   "execution_count": 5,
   "metadata": {},
   "outputs": [],
   "source": [
    "if __name__ == \"__main__\":\n",
    "    location = []\n",
    "    for offset_num in np.arange(50,1000,50) :\n",
    "        output_json = search_business(offset_num)\n",
    "        for x in range(50):\n",
    "            y = output_json['businesses'][x]['location']['display_address']\n",
    "            #print(y)\n",
    "            y = \" \".join(y)\n",
    "            location.append(y) \n",
    "# I want up to 550 results, in steps of 50 results per request.\n",
    "        try:\n",
    "            output_json = search_business(offset_num) # Executing the function defined above.\n",
    "            #print(offset_num) # Making sure each offset iteration is running\n",
    "            #print(output_json) # If you wanna check the JSON for each iteration\n",
    "          \n",
    "            if offset_num == 50:\n",
    "                df_first = pd.DataFrame.from_dict(output_json['businesses'])\n",
    "                        \n",
    "# 'businesses' because that's the primary key of the JSON (i.e. pull all attribute data by calling \n",
    "# that one key). This is something you can figure out reading the API documentation or visually\n",
    "# parsing the JSON. \n",
    "            else:\n",
    "                df2 = pd.DataFrame.from_dict(output_json['businesses'])\n",
    "                df_first = df_first.append(df2)\n",
    "                df_final = df_first[['name', 'rating']].copy()\n",
    "                df_final[\"Address\"] = location\n",
    "# The conditional statement above is so that I can append my results into a single dataframe, to \n",
    "# save into a single csv document.\n",
    "        except AttributeError:\n",
    "            print(\"error at \", offset_num) # Helpful for debugging purposes\n",
    "            "
   ]
  },
  {
   "cell_type": "code",
   "execution_count": 64,
   "metadata": {},
   "outputs": [],
   "source": [
    "#df_first.head(100)\n",
    "#print(len(df_first['name']))\n"
   ]
  },
  {
   "cell_type": "code",
   "execution_count": 15,
   "metadata": {},
   "outputs": [
    {
     "name": "stdout",
     "output_type": "stream",
     "text": [
      "950\n"
     ]
    }
   ],
   "source": [
    "df_final = df_final.rename(columns={\"name\": \"RestaurantName\", \"rating\": \"Rating\"})\n",
    "df_final.head()\n",
    "print(len(df_final['RestaurantName']))"
   ]
  },
  {
   "cell_type": "code",
   "execution_count": 9,
   "metadata": {},
   "outputs": [],
   "source": [
    "rds_connection_string = \"root:boston@127.0.0.1/restaurants_db\"\n",
    "engine = create_engine(f'mysql://{rds_connection_string}')"
   ]
  },
  {
   "cell_type": "code",
   "execution_count": 88,
   "metadata": {},
   "outputs": [
    {
     "name": "stdout",
     "output_type": "stream",
     "text": [
      "1    4.0\n",
      "1    4.0\n",
      "1    4.0\n",
      "1    4.0\n",
      "1    4.0\n",
      "1    4.0\n",
      "1    4.0\n",
      "1    4.0\n",
      "1    4.0\n",
      "1    4.0\n",
      "1    4.0\n",
      "1    4.0\n",
      "1    4.0\n",
      "1    4.0\n",
      "1    4.0\n",
      "1    4.0\n",
      "1    4.0\n",
      "1    4.0\n",
      "1    4.0\n",
      "Name: Rating, dtype: float64\n"
     ]
    }
   ],
   "source": [
    "x = df_final[\"Rating\"][1]\n",
    "print (x)"
   ]
  },
  {
   "cell_type": "code",
   "execution_count": 10,
   "metadata": {},
   "outputs": [
    {
     "data": {
      "text/plain": [
       "['google_info', 'yelp_info']"
      ]
     },
     "execution_count": 10,
     "metadata": {},
     "output_type": "execute_result"
    }
   ],
   "source": [
    "engine.table_names()"
   ]
  },
  {
   "cell_type": "code",
   "execution_count": 11,
   "metadata": {},
   "outputs": [],
   "source": [
    "df_final.to_sql(name='yelp_info', con=engine, if_exists='append', index=False)"
   ]
  },
  {
   "cell_type": "code",
   "execution_count": 12,
   "metadata": {},
   "outputs": [
    {
     "data": {
      "text/html": [
       "<div>\n",
       "<style scoped>\n",
       "    .dataframe tbody tr th:only-of-type {\n",
       "        vertical-align: middle;\n",
       "    }\n",
       "\n",
       "    .dataframe tbody tr th {\n",
       "        vertical-align: top;\n",
       "    }\n",
       "\n",
       "    .dataframe thead th {\n",
       "        text-align: right;\n",
       "    }\n",
       "</style>\n",
       "<table border=\"1\" class=\"dataframe\">\n",
       "  <thead>\n",
       "    <tr style=\"text-align: right;\">\n",
       "      <th></th>\n",
       "      <th>id</th>\n",
       "      <th>RestaurantName</th>\n",
       "      <th>Rating</th>\n",
       "      <th>Address</th>\n",
       "    </tr>\n",
       "  </thead>\n",
       "  <tbody>\n",
       "    <tr>\n",
       "      <th>0</th>\n",
       "      <td>1</td>\n",
       "      <td>Founding Farmers - Washington</td>\n",
       "      <td>4</td>\n",
       "      <td>1924 Pennsylvania Ave NW Washington, DC 20006</td>\n",
       "    </tr>\n",
       "    <tr>\n",
       "      <th>1</th>\n",
       "      <td>2</td>\n",
       "      <td>Old Ebbitt Grill</td>\n",
       "      <td>4</td>\n",
       "      <td>675 15th St NW Washington, DC 20005</td>\n",
       "    </tr>\n",
       "    <tr>\n",
       "      <th>2</th>\n",
       "      <td>3</td>\n",
       "      <td>The Pig</td>\n",
       "      <td>4</td>\n",
       "      <td>1320 14th St NW Washington, DC 20005</td>\n",
       "    </tr>\n",
       "    <tr>\n",
       "      <th>3</th>\n",
       "      <td>4</td>\n",
       "      <td>Farmbird</td>\n",
       "      <td>5</td>\n",
       "      <td>625A H St NE Washington, DC 20002</td>\n",
       "    </tr>\n",
       "    <tr>\n",
       "      <th>4</th>\n",
       "      <td>5</td>\n",
       "      <td>Unconventional Diner</td>\n",
       "      <td>4.5</td>\n",
       "      <td>1207 9th St NW Washington, DC 20001</td>\n",
       "    </tr>\n",
       "  </tbody>\n",
       "</table>\n",
       "</div>"
      ],
      "text/plain": [
       "   id                 RestaurantName Rating  \\\n",
       "0   1  Founding Farmers - Washington      4   \n",
       "1   2               Old Ebbitt Grill      4   \n",
       "2   3                        The Pig      4   \n",
       "3   4                       Farmbird      5   \n",
       "4   5           Unconventional Diner    4.5   \n",
       "\n",
       "                                         Address  \n",
       "0  1924 Pennsylvania Ave NW Washington, DC 20006  \n",
       "1            675 15th St NW Washington, DC 20005  \n",
       "2           1320 14th St NW Washington, DC 20005  \n",
       "3              625A H St NE Washington, DC 20002  \n",
       "4            1207 9th St NW Washington, DC 20001  "
      ]
     },
     "execution_count": 12,
     "metadata": {},
     "output_type": "execute_result"
    }
   ],
   "source": [
    "pd.read_sql_query('select * from yelp_info', con=engine).head()"
   ]
  }
 ],
 "metadata": {
  "kernelspec": {
   "display_name": "Python [conda env:myenv]",
   "language": "python",
   "name": "conda-env-myenv-py"
  },
  "language_info": {
   "codemirror_mode": {
    "name": "ipython",
    "version": 3
   },
   "file_extension": ".py",
   "mimetype": "text/x-python",
   "name": "python",
   "nbconvert_exporter": "python",
   "pygments_lexer": "ipython3",
   "version": "3.7.0"
  }
 },
 "nbformat": 4,
 "nbformat_minor": 2
}
